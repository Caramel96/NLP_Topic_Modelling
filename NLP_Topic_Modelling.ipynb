{
 "cells": [
  {
   "cell_type": "code",
   "execution_count": 1,
   "metadata": {},
   "outputs": [],
   "source": [
    "import nltk\n",
    "\n",
    "\n",
    "import logging\n",
    "\n",
    "import matplotlib.pyplot as plt\n",
    "import numpy as np\n",
    "from matplotlib import cm\n",
    "from sklearn.datasets import fetch_20newsgroups\n",
    "from sklearn.model_selection import train_test_split\n",
    "from sklearn.preprocessing import LabelEncoder, StandardScaler\n",
    "from sklearn.model_selection import (RepeatedStratifiedKFold, cross_val_score, )\n",
    "from sklearn.pipeline import Pipeline\n",
    "from sklearn.svm import SVC\n",
    "import re\n",
    "\n",
    "from sklearn.naive_bayes import MultinomialNB\n",
    "from sklearn.linear_model import LogisticRegression\n",
    "from sklearn.linear_model import SGDClassifier\n",
    "from sklearn.model_selection import GridSearchCV\n",
    "from sklearn.metrics import f1_score\n",
    "\n",
    "\n",
    "import spacy\n",
    "\n",
    "import pandas as pd\n",
    "\n",
    "# Gensim\n",
    "import gensim\n",
    "import gensim.corpora as corpora\n",
    "from gensim.utils import simple_preprocess\n",
    "from gensim.models import CoherenceModel\n",
    "from gensim import models\n",
    "\n",
    "# spacy for lemmatization\n",
    "import spacy\n",
    "\n",
    "# Plotting tools\n",
    "import matplotlib.pyplot as plt\n",
    "%matplotlib inline\n",
    "\n",
    "# Enable logging for gensim - optional\n",
    "import logging\n",
    "logging.basicConfig(format='%(asctime)s : %(levelname)s : %(message)s', level=logging.ERROR)\n",
    "\n",
    "import warnings\n",
    "warnings.filterwarnings(\"ignore\",category=DeprecationWarning)\n",
    "\n",
    "#############################################\n",
    "\n",
    "logging.basicConfig(format='%(asctime)s : %(levelname)s : %(message)s', level=logging.INFO)\n",
    "workers = 4 #Numbers of workers throughout the project\n",
    "\n",
    "use_umap = False #make this True if you want to use UMAP for your visualizations\n",
    "\n",
    "min_df = 5 #Minimum number for document frequency in the corpus\n",
    "rm_top = 5 #Remove top n frequent words\n",
    "\n",
    "from nltk import bigrams\n",
    "from nltk.corpus import stopwords\n",
    "stop_words = stopwords.words('english')\n",
    "stop_words.extend(['from', 'subject', 're', 'edu', 'use'])\n",
    "nlp = spacy.load('en_core_web_sm')"
   ]
  },
  {
   "cell_type": "code",
   "execution_count": 6,
   "metadata": {},
   "outputs": [],
   "source": [
    "dataset_test = fetch_20newsgroups(shuffle=True, remove=('headers', 'footers', 'qutes'), subset='train')"
   ]
  },
  {
   "cell_type": "code",
   "execution_count": 7,
   "metadata": {},
   "outputs": [
    {
     "data": {
      "text/plain": [
       "(11314, 2)"
      ]
     },
     "execution_count": 7,
     "metadata": {},
     "output_type": "execute_result"
    }
   ],
   "source": [
    "# put your data into a dataframe\n",
    "news_df = pd.DataFrame({'News': dataset_test.data,\n",
    "                       'Target': dataset_test.target})\n",
    "\n",
    "# get dimensions of data \n",
    "news_df.shape"
   ]
  },
  {
   "cell_type": "code",
   "execution_count": 8,
   "metadata": {},
   "outputs": [],
   "source": [
    "news_df['Target_name'] = news_df['Target'].apply(lambda x: dataset_test.target_names[x])"
   ]
  },
  {
   "cell_type": "code",
   "execution_count": 9,
   "metadata": {},
   "outputs": [
    {
     "data": {
      "text/html": [
       "<div>\n",
       "<style scoped>\n",
       "    .dataframe tbody tr th:only-of-type {\n",
       "        vertical-align: middle;\n",
       "    }\n",
       "\n",
       "    .dataframe tbody tr th {\n",
       "        vertical-align: top;\n",
       "    }\n",
       "\n",
       "    .dataframe thead th {\n",
       "        text-align: right;\n",
       "    }\n",
       "</style>\n",
       "<table border=\"1\" class=\"dataframe\">\n",
       "  <thead>\n",
       "    <tr style=\"text-align: right;\">\n",
       "      <th></th>\n",
       "      <th>News</th>\n",
       "      <th>Target</th>\n",
       "      <th>Target_name</th>\n",
       "    </tr>\n",
       "  </thead>\n",
       "  <tbody>\n",
       "    <tr>\n",
       "      <th>0</th>\n",
       "      <td>I was wondering if anyone out there could enli...</td>\n",
       "      <td>7</td>\n",
       "      <td>rec.autos</td>\n",
       "    </tr>\n",
       "    <tr>\n",
       "      <th>1</th>\n",
       "      <td>A fair number of brave souls who upgraded thei...</td>\n",
       "      <td>4</td>\n",
       "      <td>comp.sys.mac.hardware</td>\n",
       "    </tr>\n",
       "    <tr>\n",
       "      <th>2</th>\n",
       "      <td>well folks, my mac plus finally gave up the gh...</td>\n",
       "      <td>4</td>\n",
       "      <td>comp.sys.mac.hardware</td>\n",
       "    </tr>\n",
       "    <tr>\n",
       "      <th>3</th>\n",
       "      <td>Robert J.C. Kyanko (rob@rjck.UUCP) wrote:\\n&gt; a...</td>\n",
       "      <td>1</td>\n",
       "      <td>comp.graphics</td>\n",
       "    </tr>\n",
       "    <tr>\n",
       "      <th>4</th>\n",
       "      <td>From article &lt;C5owCB.n3p@world.std.com&gt;, by to...</td>\n",
       "      <td>14</td>\n",
       "      <td>sci.space</td>\n",
       "    </tr>\n",
       "  </tbody>\n",
       "</table>\n",
       "</div>"
      ],
      "text/plain": [
       "                                                News  Target  \\\n",
       "0  I was wondering if anyone out there could enli...       7   \n",
       "1  A fair number of brave souls who upgraded thei...       4   \n",
       "2  well folks, my mac plus finally gave up the gh...       4   \n",
       "3  Robert J.C. Kyanko (rob@rjck.UUCP) wrote:\\n> a...       1   \n",
       "4  From article <C5owCB.n3p@world.std.com>, by to...      14   \n",
       "\n",
       "             Target_name  \n",
       "0              rec.autos  \n",
       "1  comp.sys.mac.hardware  \n",
       "2  comp.sys.mac.hardware  \n",
       "3          comp.graphics  \n",
       "4              sci.space  "
      ]
     },
     "execution_count": 9,
     "metadata": {},
     "output_type": "execute_result"
    }
   ],
   "source": [
    "news_df.head()"
   ]
  },
  {
   "cell_type": "code",
   "execution_count": 10,
   "metadata": {},
   "outputs": [],
   "source": [
    "def sent_to_words(sentences):\n",
    "    for sentence in sentences:\n",
    "        yield(gensim.utils.simple_preprocess(str(sentence), deacc=True))  # deacc=True removes punctuations\n"
   ]
  },
  {
   "cell_type": "code",
   "execution_count": 11,
   "metadata": {},
   "outputs": [],
   "source": [
    "# Define functions for stopwords, bigrams, trigrams and lemmatization\n",
    "def remove_stopwords(texts):\n",
    "    return [[word for word in simple_preprocess(str(doc)) if word not in stop_words] for doc in texts]\n",
    "\n",
    "def make_bigrams(texts):\n",
    "    return [bigram_mod[doc] for doc in texts]\n",
    "\n",
    "def make_trigrams(texts):\n",
    "    return [trigram_mod[bigram_mod[doc]] for doc in texts]\n",
    "\n",
    "def lemmatization(texts, allowed_postags=['NOUN', 'ADJ', 'VERB', 'ADV']):\n",
    "    \"\"\"https://spacy.io/api/annotation\"\"\"\n",
    "    texts_out = []\n",
    "    for sent in texts:\n",
    "        doc = nlp(\" \".join(sent)) \n",
    "        texts_out.append([token.lemma_ for token in doc if token.pos_ in allowed_postags])\n",
    "    return texts_out"
   ]
  },
  {
   "cell_type": "code",
   "execution_count": 12,
   "metadata": {},
   "outputs": [],
   "source": [
    "# Remove Emails\n",
    "docs = [re.sub('\\S*@\\S*\\s?', '', sent) for sent in news_df.News]\n",
    "\n",
    "# Remove new line characters\n",
    "docs = [re.sub('\\s+', ' ', sent) for sent in docs]\n",
    "\n",
    "# Remove distracting single quotes\n",
    "docs = [re.sub(\"\\'\", \"\", sent) for sent in docs]\n",
    "\n",
    "\n",
    "data_words = list(sent_to_words(docs))\n",
    "\n",
    "bigram = gensim.models.Phrases(data_words, min_count=5, threshold=100) # higher threshold fewer phrases.\n",
    "trigram = gensim.models.Phrases(bigram[data_words], threshold=100)  \n",
    "\n",
    "# Faster way to get a sentence clubbed as a trigram/bigram\n",
    "bigram_mod = gensim.models.phrases.Phraser(bigram)\n",
    "trigram_mod = gensim.models.phrases.Phraser(trigram)\n",
    "\n",
    "# Remove Stop Words\n",
    "data_words_nostops = remove_stopwords(data_words)\n",
    "\n",
    "# Form Bigrams\n",
    "data_words_bigrams = make_bigrams(data_words_nostops)\n",
    "\n",
    "\n",
    "# Do lemmatization keeping only noun, adj, vb, adv\n",
    "data_lemmatized = lemmatization(data_words_bigrams, allowed_postags=['NOUN', 'ADJ', 'VERB', 'ADV'])\n",
    "\n",
    "# Create Dictionary\n",
    "id2word = corpora.Dictionary(data_lemmatized)\n",
    "# Create Corpus\n",
    "texts = data_lemmatized\n",
    "# Term Document Frequency\n",
    "corpus = [id2word.doc2bow(text) for text in texts]\n",
    "\n",
    "TFIDF = models.TfidfModel(corpus) # Fit TF-IDF model\n",
    "trans_TFIDF = TFIDF[corpus]"
   ]
  },
  {
   "cell_type": "code",
   "execution_count": 13,
   "metadata": {},
   "outputs": [
    {
     "name": "stdout",
     "output_type": "stream",
     "text": [
      "[['wonder', 'enlighten', 'car', 'saw', 'day', 'door', 'sport', 'car', 'look', 'late', 'early', 'call', 'bricklin', 'door', 'really', 'small', 'addition', 'separate', 'rest', 'body', 'know', 'tellme', 'model', 'name', 'engine', 'spec', 'year', 'production', 'car', 'make', 'history', 'info', 'funky', 'look', 'car', 'mail']]\n"
     ]
    }
   ],
   "source": [
    "print(data_lemmatized[:1])"
   ]
  },
  {
   "cell_type": "code",
   "execution_count": 14,
   "metadata": {},
   "outputs": [
    {
     "name": "stdout",
     "output_type": "stream",
     "text": [
      "[[(0, 1), (1, 1), (2, 1), (3, 1), (4, 4), (5, 1), (6, 2), (7, 1), (8, 1), (9, 1), (10, 1), (11, 1), (12, 1), (13, 1), (14, 1), (15, 2), (16, 1), (17, 1), (18, 1), (19, 1), (20, 1), (21, 1), (22, 1), (23, 1), (24, 1), (25, 1), (26, 1), (27, 1), (28, 1), (29, 1), (30, 1)], [(5, 2), (31, 1), (32, 2), (33, 1), (34, 1), (35, 1), (36, 1), (37, 1), (38, 1), (39, 2), (40, 1), (41, 1), (42, 1), (43, 1), (44, 2), (45, 1), (46, 1), (47, 1), (48, 1), (49, 1), (50, 1), (51, 1), (52, 1), (53, 1), (54, 1), (55, 1), (56, 2), (57, 1), (58, 1), (59, 1), (60, 1), (61, 1), (62, 1), (63, 2), (64, 1), (65, 1), (66, 1), (67, 2), (68, 1)]]\n"
     ]
    }
   ],
   "source": [
    "print(corpus[:2])"
   ]
  },
  {
   "cell_type": "code",
   "execution_count": 15,
   "metadata": {},
   "outputs": [],
   "source": [
    "SEED = 100 # Set random seed\n",
    "NUM_topics = 10 # Set number of topics\n",
    "ALPHA = 50/NUM_topics # Alpha being set as 50/k gives consistant smooth results.\n",
    "ETA = 0.1 # Set eta"
   ]
  },
  {
   "cell_type": "code",
   "execution_count": 16,
   "metadata": {},
   "outputs": [
    {
     "name": "stdout",
     "output_type": "stream",
     "text": [
      "\n",
      "Perplexity:  -10.109023772539299\n",
      "\n",
      "Coherence Score:  0.39068808670328786\n"
     ]
    }
   ],
   "source": [
    "# Build LDA model\n",
    "lda_model = gensim.models.LdaMulticore(corpus=trans_TFIDF,\n",
    "                                       id2word=id2word,\n",
    "                                       num_topics=NUM_topics, \n",
    "                                       random_state=SEED,\n",
    "                                       chunksize=100,\n",
    "                                       passes=50,\n",
    "                                       per_word_topics=True,\n",
    "                                       alpha=ALPHA,\n",
    "                                       eta=ETA,)\n",
    "\n",
    "\n",
    "print('\\nPerplexity: ', lda_model.log_perplexity(corpus))  # a measure of how good the model is. lower the better.\n",
    "\n",
    "# Compute Coherence Score\n",
    "coherence_model_lda = CoherenceModel(model=lda_model, texts=texts, dictionary=id2word, coherence='c_v')\n",
    "coherence_lda = coherence_model_lda.get_coherence()\n",
    "print('\\nCoherence Score: ', coherence_lda)"
   ]
  },
  {
   "cell_type": "code",
   "execution_count": 17,
   "metadata": {},
   "outputs": [
    {
     "name": "stdout",
     "output_type": "stream",
     "text": [
      "[(0, '0.005*\"find\" + 0.005*\"go\" + 0.005*\"way\" + 0.005*\"many\" + 0.004*\"point\" + 0.004*\"space\" + 0.004*\"talk\" + 0.004*\"reason\" + 0.004*\"far\" + 0.003*\"still\"'), (1, '0.004*\"buy\" + 0.004*\"new\" + 0.004*\"drive\" + 0.004*\"gun\" + 0.004*\"kill\" + 0.004*\"price\" + 0.003*\"car\" + 0.003*\"machine\" + 0.003*\"else\" + 0.003*\"window\"'), (2, '0.005*\"team\" + 0.005*\"game\" + 0.005*\"try\" + 0.004*\"play\" + 0.004*\"want\" + 0.004*\"win\" + 0.004*\"back\" + 0.004*\"player\" + 0.004*\"however\" + 0.004*\"much\"'), (3, '0.005*\"mail\" + 0.005*\"information\" + 0.005*\"send\" + 0.004*\"email\" + 0.004*\"help\" + 0.004*\"number\" + 0.004*\"work\" + 0.004*\"wonder\" + 0.004*\"address\" + 0.003*\"also\"'), (4, '0.006*\"window\" + 0.005*\"program\" + 0.005*\"problem\" + 0.005*\"line\" + 0.004*\"computer\" + 0.004*\"color\" + 0.004*\"order\" + 0.004*\"monitor\" + 0.004*\"version\" + 0.003*\"mac\"'), (5, '0.004*\"sure\" + 0.004*\"true\" + 0.004*\"law\" + 0.003*\"chip\" + 0.003*\"thing\" + 0.003*\"old\" + 0.003*\"show\" + 0.003*\"life\" + 0.003*\"week\" + 0.003*\"child\"'), (6, '0.005*\"first\" + 0.004*\"post\" + 0.004*\"power\" + 0.004*\"answer\" + 0.003*\"sale\" + 0.003*\"issue\" + 0.003*\"question\" + 0.003*\"m\" + 0.003*\"offer\" + 0.003*\"really\"'), (7, '0.005*\"driver\" + 0.004*\"card\" + 0.004*\"use\" + 0.004*\"ill\" + 0.004*\"system\" + 0.003*\"support\" + 0.003*\"end\" + 0.003*\"ever\" + 0.003*\"drive\" + 0.003*\"build\"'), (8, '0.005*\"people\" + 0.004*\"part\" + 0.004*\"case\" + 0.004*\"bike\" + 0.004*\"believe\" + 0.004*\"think\" + 0.004*\"wrong\" + 0.003*\"person\" + 0.003*\"course\" + 0.003*\"take\"'), (9, '0.005*\"write\" + 0.004*\"christian\" + 0.004*\"man\" + 0.004*\"state\" + 0.004*\"disk\" + 0.004*\"speed\" + 0.003*\"base\" + 0.003*\"year\" + 0.003*\"source\" + 0.003*\"least\"')]\n"
     ]
    }
   ],
   "source": [
    "print(lda_model.print_topics())\n",
    "doc_lda = lda_model[corpus]"
   ]
  },
  {
   "cell_type": "code",
   "execution_count": 18,
   "metadata": {},
   "outputs": [
    {
     "name": "stdout",
     "output_type": "stream",
     "text": [
      "(6788, 3) (2263, 3) (2263, 3)\n"
     ]
    }
   ],
   "source": [
    "\n",
    "# train is now 75% of the entire data set\n",
    "# the _junk suffix means that we drop that variable completely\n",
    "train, test = train_test_split(news_df, train_size=0.6)\n",
    "\n",
    "# test is now 10% of the initial data set\n",
    "# validation is now 15% of the initial data set\n",
    "test, val = train_test_split(test, test_size=0.5) \n",
    "\n",
    "print(train.shape, test.shape, val.shape)"
   ]
  },
  {
   "cell_type": "code",
   "execution_count": 19,
   "metadata": {},
   "outputs": [],
   "source": [
    "# Remove Emails\n",
    "docs_test = [re.sub('\\S*@\\S*\\s?', '', sent) for sent in test.News]\n",
    "\n",
    "# Remove new line characters\n",
    "docs_test = [re.sub('\\s+', ' ', sent) for sent in docs_test]\n",
    "\n",
    "# Remove distracting single quotes\n",
    "docs_test = [re.sub(\"\\'\", \"\", sent) for sent in docs_test]\n",
    "\n",
    "\n",
    "data_words_test = list(sent_to_words(docs_test))\n",
    "\n",
    "bigram = gensim.models.Phrases(data_words_test, min_count=5, threshold=100) # higher threshold fewer phrases.\n",
    "trigram = gensim.models.Phrases(bigram[data_words_test], threshold=100)  \n",
    "\n",
    "# Faster way to get a sentence clubbed as a trigram/bigram\n",
    "bigram_mod = gensim.models.phrases.Phraser(bigram)\n",
    "trigram_mod = gensim.models.phrases.Phraser(trigram)\n",
    "\n",
    "# Remove Stop Words\n",
    "data_words_nostops_test = remove_stopwords(data_words_test)\n",
    "\n",
    "# Form Bigrams\n",
    "data_words_bigrams_test = make_bigrams(data_words_nostops_test)\n",
    "\n",
    "\n",
    "# Do lemmatization keeping only noun, adj, vb, adv\n",
    "data_lemmatized_test = lemmatization(data_words_bigrams_test, allowed_postags=['NOUN', 'ADJ', 'VERB', 'ADV'])\n",
    "\n",
    "# Create Dictionary\n",
    "id2word_test = corpora.Dictionary(data_lemmatized_test)\n",
    "# Create Corpus\n",
    "texts_test = data_lemmatized_test\n",
    "# Term Document Frequency\n",
    "corpus_test = [id2word_test.doc2bow(text) for text in texts_test]\n",
    "\n",
    "TFIDF_test = models.TfidfModel(corpus_test) # Fit TF-IDF model\n",
    "trans_TFIDF_test = TFIDF_test[corpus_test]\n",
    "\n",
    "\n",
    "\n",
    "\n"
   ]
  },
  {
   "cell_type": "code",
   "execution_count": 20,
   "metadata": {},
   "outputs": [],
   "source": [
    "# Remove Emails\n",
    "docs_val = [re.sub('\\S*@\\S*\\s?', '', sent) for sent in val.News]\n",
    "\n",
    "# Remove new line characters\n",
    "docs_val = [re.sub('\\s+', ' ', sent) for sent in docs_val]\n",
    "\n",
    "# Remove distracting single quotes\n",
    "docs_val = [re.sub(\"\\'\", \"\", sent) for sent in docs_val]\n",
    "\n",
    "\n",
    "data_words_val = list(sent_to_words(docs_val))\n",
    "\n",
    "bigram = gensim.models.Phrases(data_words_val, min_count=5, threshold=100) # higher threshold fewer phrases.\n",
    "trigram = gensim.models.Phrases(bigram[data_words_val], threshold=100)  \n",
    "\n",
    "# Faster way to get a sentence clubbed as a trigram/bigram\n",
    "bigram_mod = gensim.models.phrases.Phraser(bigram)\n",
    "trigram_mod = gensim.models.phrases.Phraser(trigram)\n",
    "\n",
    "# Remove Stop Words\n",
    "data_words_nostops_val = remove_stopwords(data_words_val)\n",
    "\n",
    "# Form Bigrams\n",
    "data_words_bigrams_val = make_bigrams(data_words_nostops_val)\n",
    "\n",
    "\n",
    "# Do lemmatization keeping only noun, adj, vb, adv\n",
    "data_lemmatized_val = lemmatization(data_words_bigrams_val, allowed_postags=['NOUN', 'ADJ', 'VERB', 'ADV'])\n",
    "\n",
    "# Create Dictionary\n",
    "id2word_val = corpora.Dictionary(data_lemmatized_val)\n",
    "# Create Corpus\n",
    "texts_val = data_lemmatized_val\n",
    "# Term Document Frequency\n",
    "corpus_val = [id2word_val.doc2bow(text) for text in texts_val]\n",
    "\n",
    "TFIDF_val = models.TfidfModel(corpus_val) # Fit TF-IDF model\n",
    "trans_TFIDF_val = TFIDF_val[corpus_val]\n",
    "\n"
   ]
  },
  {
   "cell_type": "code",
   "execution_count": 21,
   "metadata": {},
   "outputs": [],
   "source": [
    "# Remove Emails\n",
    "docs_train = [re.sub('\\S*@\\S*\\s?', '', sent) for sent in train.News]\n",
    "\n",
    "# Remove new line characters\n",
    "docs_train = [re.sub('\\s+', ' ', sent) for sent in docs_train]\n",
    "\n",
    "# Remove distracting single quotes\n",
    "docs_train = [re.sub(\"\\'\", \"\", sent) for sent in docs_train]\n",
    "\n",
    "\n",
    "data_words_train = list(sent_to_words(docs_train))\n",
    "\n",
    "bigram = gensim.models.Phrases(data_words_train, min_count=5, threshold=100) # higher threshold fewer phrases.\n",
    "trigram = gensim.models.Phrases(bigram[data_words_train], threshold=100)  \n",
    "\n",
    "# Faster way to get a sentence clubbed as a trigram/bigram\n",
    "bigram_mod = gensim.models.phrases.Phraser(bigram)\n",
    "trigram_mod = gensim.models.phrases.Phraser(trigram)\n",
    "\n",
    "# Remove Stop Words\n",
    "data_words_nostops_train = remove_stopwords(data_words_train)\n",
    "\n",
    "# Form Bigrams\n",
    "data_words_bigrams_train = make_bigrams(data_words_nostops_train)\n",
    "\n",
    "\n",
    "# Do lemmatization keeping only noun, adj, vb, adv\n",
    "data_lemmatized_train = lemmatization(data_words_bigrams_train, allowed_postags=['NOUN', 'ADJ', 'VERB', 'ADV'])\n",
    "\n",
    "# Create Dictionary\n",
    "id2word_train = corpora.Dictionary(data_lemmatized_train)\n",
    "# Create Corpus\n",
    "texts_train = data_lemmatized_train\n",
    "# Term Document Frequency\n",
    "corpus_train = [id2word_train.doc2bow(text) for text in texts_train]\n",
    "\n",
    "\n",
    "TFIDF_train = models.TfidfModel(corpus_train) # Fit TF-IDF model\n",
    "trans_TFIDF_train = TFIDF_train[corpus_train]"
   ]
  },
  {
   "cell_type": "code",
   "execution_count": 44,
   "metadata": {},
   "outputs": [],
   "source": [
    "SEED = 100 # Set random seed\n",
    "NUM_topics = 50 # Set number of topics\n",
    "ALPHA = 50/NUM_topics # Alpha being set as 50/k gives consistant smooth results.\n",
    "ETA = 0.1 # Set eta"
   ]
  },
  {
   "cell_type": "code",
   "execution_count": 61,
   "metadata": {
    "scrolled": true
   },
   "outputs": [],
   "source": [
    "# Build LDA model\n",
    "from gensim.models import LdaModel\n",
    "lda_train =  gensim.models.LdaMulticore(corpus=trans_TFIDF,\n",
    "                                       id2word=id2word,\n",
    "                                       num_topics= NUM_topics, \n",
    "                                       random_state= SEED,\n",
    "                                       per_word_topics=True,\n",
    "                                       chunksize=100,\n",
    "                                        alpha= ALPHA,\n",
    "                                        eta= ETA,\n",
    "                                        passes=20\n",
    "                                      )\n"
   ]
  },
  {
   "cell_type": "code",
   "execution_count": 52,
   "metadata": {},
   "outputs": [],
   "source": [
    "def document_to_lda_features(lda_model, document):\n",
    "    \"\"\" Transforms a bag of words document to features.\n",
    "    It returns the proportion of how much each topic was\n",
    "    present in the document.\n",
    "    \"\"\"\n",
    "    topic_importances = lda_train.get_document_topics(document, minimum_probability=0)\n",
    "    topic_importances = np.array(topic_importances)\n",
    "    return topic_importances[:,1]\n"
   ]
  },
  {
   "cell_type": "code",
   "execution_count": 62,
   "metadata": {},
   "outputs": [],
   "source": [
    "vec = list(map(lambda doc:\n",
    "                                      document_to_lda_features(lda_train, \n",
    "                                                              doc),\n",
    "                                       trans_TFIDF))"
   ]
  },
  {
   "cell_type": "code",
   "execution_count": 53,
   "metadata": {},
   "outputs": [],
   "source": [
    "val_vec = list(map(lambda doc:\n",
    "                                      document_to_lda_features(lda_train, \n",
    "                                                              doc),\n",
    "                                       trans_TFIDF_val))\n",
    "test_vec = list(map(lambda doc:\n",
    "                                      document_to_lda_features(lda_train, \n",
    "                                                              doc),\n",
    "                                      trans_TFIDF_test))\n",
    "train_vec = list(map(lambda doc:\n",
    "                                      document_to_lda_features(lda_train, \n",
    "                                                              doc),\n",
    "                                      trans_TFIDF_train))"
   ]
  },
  {
   "cell_type": "code",
   "execution_count": 63,
   "metadata": {},
   "outputs": [
    {
     "name": "stdout",
     "output_type": "stream",
     "text": [
      "(6788, 50) (2263, 50) (2263, 50)\n"
     ]
    }
   ],
   "source": [
    "X_vec = np.array(list(map(np.array, vec)))\n",
    "X_scale = scaler.fit_transform(X_vec)\n",
    "\n",
    "Xtrain, Xtest = train_test_split(X_scale, train_size=0.6)\n",
    "\n",
    "# test is now 10% of the initial data set\n",
    "# validation is now 15% of the initial data set\n",
    "Xtest, Xval = train_test_split(Xtest, test_size=0.5) \n",
    "\n",
    "print(Xtrain.shape, Xtest.shape, Xval.shape)"
   ]
  },
  {
   "cell_type": "code",
   "execution_count": 54,
   "metadata": {},
   "outputs": [],
   "source": [
    "# since train_data['lda_features'] don't have the needed shape and type yet,\n",
    "# we first have to transform every entry\n",
    "X_train_lda = np.array(list(map(np.array, train_vec)))\n",
    "X_val_lda = np.array(list(map(np.array, val_vec)))\n",
    "X_test_lda = np.array(list(map(np.array, test_vec)))"
   ]
  },
  {
   "cell_type": "code",
   "execution_count": 55,
   "metadata": {
    "scrolled": true
   },
   "outputs": [],
   "source": [
    "scaler = StandardScaler()\n",
    "X_train_scale = scaler.fit_transform(X_train_lda)\n",
    "X_val_scale = scaler.transform(X_val_lda)\n",
    "X_test_scale = scaler.transform(X_test_lda)"
   ]
  },
  {
   "cell_type": "code",
   "execution_count": 65,
   "metadata": {
    "scrolled": true
   },
   "outputs": [
    {
     "ename": "AttributeError",
     "evalue": "'numpy.ndarray' object has no attribute 'Target'",
     "output_type": "error",
     "traceback": [
      "\u001b[0;31m---------------------------------------------------------------------------\u001b[0m",
      "\u001b[0;31mAttributeError\u001b[0m                            Traceback (most recent call last)",
      "\u001b[0;32m<ipython-input-65-e4c12cabd146>\u001b[0m in \u001b[0;36m<module>\u001b[0;34m\u001b[0m\n\u001b[1;32m      8\u001b[0m \u001b[0mgrid\u001b[0m \u001b[0;34m=\u001b[0m \u001b[0mGridSearchCV\u001b[0m\u001b[0;34m(\u001b[0m\u001b[0mlr\u001b[0m\u001b[0;34m,\u001b[0m \u001b[0mparams\u001b[0m\u001b[0;34m,\u001b[0m \u001b[0mcv\u001b[0m\u001b[0;34m=\u001b[0m\u001b[0mfolds\u001b[0m\u001b[0;34m)\u001b[0m\u001b[0;34m\u001b[0m\u001b[0;34m\u001b[0m\u001b[0m\n\u001b[1;32m      9\u001b[0m \u001b[0;34m\u001b[0m\u001b[0m\n\u001b[0;32m---> 10\u001b[0;31m \u001b[0mgs_ls\u001b[0m \u001b[0;34m=\u001b[0m \u001b[0mgrid\u001b[0m\u001b[0;34m.\u001b[0m\u001b[0mfit\u001b[0m\u001b[0;34m(\u001b[0m\u001b[0mXtrain\u001b[0m\u001b[0;34m,\u001b[0m \u001b[0mXtrain\u001b[0m\u001b[0;34m.\u001b[0m\u001b[0mTarget\u001b[0m\u001b[0;34m)\u001b[0m\u001b[0;34m\u001b[0m\u001b[0;34m\u001b[0m\u001b[0m\n\u001b[0m\u001b[1;32m     11\u001b[0m \u001b[0;34m\u001b[0m\u001b[0m\n\u001b[1;32m     12\u001b[0m \u001b[0my_pred\u001b[0m \u001b[0;34m=\u001b[0m \u001b[0mgs_ls\u001b[0m\u001b[0;34m.\u001b[0m\u001b[0mpredict\u001b[0m\u001b[0;34m(\u001b[0m\u001b[0mXval\u001b[0m\u001b[0;34m)\u001b[0m\u001b[0;34m\u001b[0m\u001b[0;34m\u001b[0m\u001b[0m\n",
      "\u001b[0;31mAttributeError\u001b[0m: 'numpy.ndarray' object has no attribute 'Target'"
     ]
    }
   ],
   "source": [
    "folds = RepeatedStratifiedKFold(n_splits=5)\n",
    "clff = MultinomialNB()\n",
    "lr = LogisticRegression(multi_class='multinomial', solver='newton-cg', penalty='l2')\n",
    "clf = SGDClassifier(loss='hinge', penalty='l2',alpha=1e-3, random_state=42)\n",
    "param_grid = {'penalty': ['l1', 'l2']}\n",
    "\n",
    "params = {}\n",
    "grid = GridSearchCV(lr, params, cv=folds)\n",
    "\n",
    "gs_ls = grid.fit(X_train_scale, train.Target)\n",
    "\n",
    "y_pred = gs_ls.predict(X_val_scale)\n",
    "print(f1_score(val.Target, y_pred, average='micro'))\n",
    "\n",
    "print(gs_ls.best_score_)\n",
    "\n",
    "\n"
   ]
  },
  {
   "cell_type": "code",
   "execution_count": null,
   "metadata": {},
   "outputs": [],
   "source": []
  },
  {
   "cell_type": "code",
   "execution_count": null,
   "metadata": {},
   "outputs": [],
   "source": []
  }
 ],
 "metadata": {
  "kernelspec": {
   "display_name": "Python 3",
   "language": "python",
   "name": "python3"
  },
  "language_info": {
   "codemirror_mode": {
    "name": "ipython",
    "version": 3
   },
   "file_extension": ".py",
   "mimetype": "text/x-python",
   "name": "python",
   "nbconvert_exporter": "python",
   "pygments_lexer": "ipython3",
   "version": "3.8.5"
  }
 },
 "nbformat": 4,
 "nbformat_minor": 5
}
